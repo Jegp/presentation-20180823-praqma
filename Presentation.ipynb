{
 "cells": [
  {
   "cell_type": "markdown",
   "metadata": {
    "slideshow": {
     "slide_type": "slide"
    }
   },
   "source": [
    "# Docker Swarm\n",
    "\n",
    "## A critical walkthrough to make your life easier\n",
    "\n",
    "    Jens Egholm Pedersen - jensegholm@protonmail.com"
   ]
  },
  {
   "cell_type": "markdown",
   "metadata": {
    "slideshow": {
     "slide_type": "subslide"
    }
   },
   "source": [
    "## Agenda\n",
    "\n",
    "* Introduction\n",
    "* The container paradigm\n",
    "* Orchestration\n",
    "* Use cases\n",
    "  1. Buggy application with redundancy\n",
    "  2. Monitoring and service discovery\n",
    "* Recap"
   ]
  },
  {
   "cell_type": "markdown",
   "metadata": {
    "slideshow": {
     "slide_type": "slide"
    }
   },
   "source": [
    "# Presentation formalia\n",
    "\n",
    "* Who am I\n",
    "* Who are you\n",
    "* Presentation format and assumptions"
   ]
  },
  {
   "cell_type": "markdown",
   "metadata": {
    "slideshow": {
     "slide_type": "subslide"
    }
   },
   "source": [
    "## Who I am\n",
    "\n",
    "    jensegholm@protonmail.com\n",
    "\n",
    "### Education\n",
    "\n",
    "* BSc. Political Science\n",
    "* BSc. IT-University of Copenhagen\n",
    "* MSc. IT & Cognition\n",
    "\n",
    "### Professional experience\n",
    "\n",
    "* Software engineer, CERN, Switzerland\n",
    "* Assistant professor, Cphbusiness\n",
    "* CTO Mobilized Construction"
   ]
  },
  {
   "cell_type": "markdown",
   "metadata": {
    "slideshow": {
     "slide_type": "subslide"
    }
   },
   "source": [
    "# Who you are\n",
    "\n",
    "* Praqma"
   ]
  },
  {
   "cell_type": "markdown",
   "metadata": {
    "slideshow": {
     "slide_type": "fragment"
    }
   },
   "source": [
    "* Probably busy"
   ]
  },
  {
   "cell_type": "markdown",
   "metadata": {
    "slideshow": {
     "slide_type": "subslide"
    }
   },
   "source": [
    "![Moore's law](moore.png)"
   ]
  },
  {
   "cell_type": "markdown",
   "metadata": {
    "slideshow": {
     "slide_type": "subslide"
    }
   },
   "source": [
    "## Assumptions\n",
    "\n",
    "* Our brains are bottlenecks\n",
    "  * Computers are rapidly growing smarter\n",
    "  * Humans are slowly growing smarter\n",
    "  * Example: Assembly vs. NodeJS"
   ]
  },
  {
   "cell_type": "markdown",
   "metadata": {
    "slideshow": {
     "slide_type": "fragment"
    }
   },
   "source": [
    "* Technology should be human centric\n",
    "  * Technology should adapt to us, not the other way around\n",
    "* Tools should do one thing and do it well\n",
    "* Text interfaces are superior "
   ]
  },
  {
   "cell_type": "markdown",
   "metadata": {
    "slideshow": {
     "slide_type": "subslide"
    }
   },
   "source": [
    "## Context of this talk\n",
    "\n",
    "* Copenhagen business academy (Cphbusiness)\n",
    "* Course on large system development"
   ]
  },
  {
   "cell_type": "markdown",
   "metadata": {
    "slideshow": {
     "slide_type": "fragment"
    }
   },
   "source": [
    "* ~70 students\n",
    "* 15 Hackernews clones\n",
    "* 15 million messages $\\approx$ 3 GB data\n",
    "* Monitoring, logging, CD, scaling and security"
   ]
  },
  {
   "cell_type": "markdown",
   "metadata": {
    "slideshow": {
     "slide_type": "fragment"
    }
   },
   "source": [
    "* Clear goals driving relevant and intuitive teaching"
   ]
  },
  {
   "cell_type": "markdown",
   "metadata": {
    "slideshow": {
     "slide_type": "subslide"
    }
   },
   "source": [
    "# Presentation format\n",
    "\n",
    "* Intuition\n",
    "* Relevant\n",
    "* Practical"
   ]
  },
  {
   "cell_type": "markdown",
   "metadata": {
    "slideshow": {
     "slide_type": "fragment"
    }
   },
   "source": [
    "* Theory\n",
    "  * Listen, take notes, relate, ask\n",
    "* Practice\n",
    "  * Learn, internalise, criticise"
   ]
  },
  {
   "cell_type": "markdown",
   "metadata": {
    "slideshow": {
     "slide_type": "fragment"
    }
   },
   "source": [
    "* Metacognition\n",
    "  * You learn better when you write down\n",
    "  * Donning-Kruger effect"
   ]
  },
  {
   "cell_type": "markdown",
   "metadata": {
    "slideshow": {
     "slide_type": "subslide"
    }
   },
   "source": [
    "![Donning-Kruger effect](donningkruger.png)"
   ]
  },
  {
   "cell_type": "markdown",
   "metadata": {
    "slideshow": {
     "slide_type": "slide"
    }
   },
   "source": [
    "# Docker\n",
    "\n",
    "* Docker machine\n",
    "* Containers\n",
    "* Software synchronisation\n",
    "* Synchronisation in containers"
   ]
  },
  {
   "cell_type": "markdown",
   "metadata": {
    "slideshow": {
     "slide_type": "subslide"
    }
   },
   "source": [
    "## Docker machine\n",
    "\n",
    "* A tool to manage virtual machines\n",
    "  * Locally or remotely\n",
    "  * Drivers for Virtualbox, AWS, Digital Ocean etc."
   ]
  },
  {
   "cell_type": "markdown",
   "metadata": {
    "slideshow": {
     "slide_type": "subslide"
    }
   },
   "source": [
    "## Creating a machine\n",
    "\n",
    "Syntax: ``docker-machine create --driver [virtualbox|digitalocean|...] [options] name``"
   ]
  },
  {
   "cell_type": "markdown",
   "metadata": {
    "slideshow": {
     "slide_type": "fragment"
    }
   },
   "source": [
    "Example: ``docker-machine create --driver virtualbox box1``"
   ]
  },
  {
   "cell_type": "code",
   "execution_count": null,
   "metadata": {
    "slideshow": {
     "slide_type": "fragment"
    }
   },
   "outputs": [],
   "source": [
    "!docker-machine create --driver digitalocean --digitalocean-access-token=`cat dockertoken.txt` --digitalocean-region ams3 box1"
   ]
  },
  {
   "cell_type": "markdown",
   "metadata": {
    "slideshow": {
     "slide_type": "subslide"
    }
   },
   "source": [
    "## Accessing a machine\n",
    "\n",
    "    docker-machine ssh box1"
   ]
  },
  {
   "cell_type": "code",
   "execution_count": null,
   "metadata": {
    "slideshow": {
     "slide_type": "fragment"
    }
   },
   "outputs": [],
   "source": []
  },
  {
   "cell_type": "markdown",
   "metadata": {
    "slideshow": {
     "slide_type": "subslide"
    }
   },
   "source": [
    "## Accessing a machine from another computer\n",
    "\n",
    "Copy environment from ``~/.docker``\n",
    "\n",
    "    docker-machine env box1"
   ]
  },
  {
   "cell_type": "code",
   "execution_count": null,
   "metadata": {
    "slideshow": {
     "slide_type": "fragment"
    }
   },
   "outputs": [],
   "source": []
  },
  {
   "cell_type": "markdown",
   "metadata": {
    "slideshow": {
     "slide_type": "subslide"
    }
   },
   "source": [
    "## Deploying to a machine\n",
    "\n",
    "    docker-machine ssh box1 docker run -p 80:80 -d nginx"
   ]
  },
  {
   "cell_type": "code",
   "execution_count": null,
   "metadata": {
    "slideshow": {
     "slide_type": "fragment"
    }
   },
   "outputs": [],
   "source": []
  },
  {
   "cell_type": "markdown",
   "metadata": {
    "slideshow": {
     "slide_type": "subslide"
    }
   },
   "source": [
    "## Listing machines\n",
    "\n",
    "    docker-machine ls"
   ]
  },
  {
   "cell_type": "code",
   "execution_count": null,
   "metadata": {
    "slideshow": {
     "slide_type": "fragment"
    }
   },
   "outputs": [],
   "source": []
  },
  {
   "cell_type": "markdown",
   "metadata": {
    "slideshow": {
     "slide_type": "subslide"
    }
   },
   "source": [
    "# Docker containers\n",
    "\n",
    "* Simplification and isolition\n",
    "  * Old, but good, idea"
   ]
  },
  {
   "cell_type": "markdown",
   "metadata": {
    "slideshow": {
     "slide_type": "fragment"
    }
   },
   "source": [
    "* Typical use case: microservices\n",
    "  * Self-contained"
   ]
  },
  {
   "cell_type": "markdown",
   "metadata": {
    "slideshow": {
     "slide_type": "fragment"
    }
   },
   "source": [
    "* The container idea is _not_ perfect\n",
    "  * Persistence (databases)\n",
    "  * Synchronisation"
   ]
  },
  {
   "cell_type": "markdown",
   "metadata": {
    "slideshow": {
     "slide_type": "fragment"
    }
   },
   "source": [
    "* Containerisation is a paradigm\n",
    "  * With paradigms comes incommensurability"
   ]
  },
  {
   "cell_type": "markdown",
   "metadata": {
    "slideshow": {
     "slide_type": "subslide"
    }
   },
   "source": [
    "## Occam's razor\n",
    "\n",
    "* Docker is a framework for isolated containers\n",
    "* Docker is incommensurable with high coupling/integration\n",
    "* It forces us to deal with complexity elsewhere\n",
    "  * Linux philosopy: do one thing and do it well"
   ]
  },
  {
   "cell_type": "markdown",
   "metadata": {
    "slideshow": {
     "slide_type": "fragment"
    }
   },
   "source": [
    "* This is just what we want from a container system!"
   ]
  },
  {
   "cell_type": "markdown",
   "metadata": {
    "slideshow": {
     "slide_type": "fragment"
    }
   },
   "source": [
    "* ... And what you will want from orchestration "
   ]
  },
  {
   "cell_type": "markdown",
   "metadata": {
    "slideshow": {
     "slide_type": "slide"
    }
   },
   "source": [
    "# Orchestration\n",
    "\n",
    "* What do we want from orchestration?\n",
    "* What do we _not_ want from orchestration?\n",
    "* Docker swarm tutorial"
   ]
  },
  {
   "cell_type": "markdown",
   "metadata": {
    "slideshow": {
     "slide_type": "subslide"
    }
   },
   "source": [
    "## Orchestration requirements\n",
    "\n",
    "* Efficient management\n",
    "  * Deploy, teardown, updates (CRUD)"
   ]
  },
  {
   "cell_type": "markdown",
   "metadata": {
    "slideshow": {
     "slide_type": "fragment"
    }
   },
   "source": [
    "* Scheduling\n",
    "  * Resource-aware"
   ]
  },
  {
   "cell_type": "markdown",
   "metadata": {
    "slideshow": {
     "slide_type": "fragment"
    }
   },
   "source": [
    "* Security\n",
    "  * DMZ and hidden networks"
   ]
  },
  {
   "cell_type": "markdown",
   "metadata": {
    "slideshow": {
     "slide_type": "subslide"
    }
   },
   "source": [
    "## Orchestration unenviables\n",
    "\n",
    "* Diffuse nomenclature\n",
    "  * \"Oups! I just X instead of Y\" "
   ]
  },
  {
   "cell_type": "markdown",
   "metadata": {
    "slideshow": {
     "slide_type": "fragment"
    }
   },
   "source": [
    "* Complexity\n",
    "  * \"Oups! Our cluster is down. Let me RTFM\"\n",
    "  * \"I need to learn this. Please pay 50.000$ for a course\""
   ]
  },
  {
   "cell_type": "markdown",
   "metadata": {
    "slideshow": {
     "slide_type": "fragment"
    }
   },
   "source": [
    "* Time consuming\n",
    "  * \"Go to File -> Settings -> Advanced -> Update tab -> click on ...\"\n",
    "  * \"I need to do X. Let me write a configuration file first\""
   ]
  },
  {
   "cell_type": "markdown",
   "metadata": {
    "slideshow": {
     "slide_type": "subslide"
    }
   },
   "source": [
    "## Docker swarm\n",
    "\n",
    "* Efficient management: Purely CLI based\n",
    "  * Docker as the atom\n",
    "* Scheduling: Resource-aware and RAFT consensus\n",
    "  * Semi-automatic\n",
    "* Security: Public/private encryption\n",
    "  * Encryption by default"
   ]
  },
  {
   "cell_type": "markdown",
   "metadata": {
    "slideshow": {
     "slide_type": "subslide"
    }
   },
   "source": [
    "## Docker swarm: concepts\n",
    "\n",
    "* Nodes (in the cluster)\n",
    "  * Worker\n",
    "  * Manager"
   ]
  },
  {
   "cell_type": "markdown",
   "metadata": {
    "slideshow": {
     "slide_type": "fragment"
    }
   },
   "source": [
    "* Tasks\n",
    "  * One single running container"
   ]
  },
  {
   "cell_type": "markdown",
   "metadata": {
    "slideshow": {
     "slide_type": "fragment"
    }
   },
   "source": [
    "* Services\n",
    "  * A service provided by one or more containers"
   ]
  },
  {
   "cell_type": "markdown",
   "metadata": {
    "slideshow": {
     "slide_type": "fragment"
    }
   },
   "source": [
    "* Networks\n",
    "  * Connecting one or more services"
   ]
  },
  {
   "cell_type": "markdown",
   "metadata": {
    "slideshow": {
     "slide_type": "subslide"
    }
   },
   "source": [
    "## Starting a cluster\n",
    "\n",
    "    docker swarm --init"
   ]
  },
  {
   "cell_type": "code",
   "execution_count": null,
   "metadata": {
    "slideshow": {
     "slide_type": "fragment"
    }
   },
   "outputs": [],
   "source": []
  },
  {
   "cell_type": "markdown",
   "metadata": {
    "slideshow": {
     "slide_type": "subslide"
    }
   },
   "source": [
    "## Joining a cluster\n",
    "\n",
    "    docker swarm join --token ..."
   ]
  },
  {
   "cell_type": "code",
   "execution_count": null,
   "metadata": {
    "slideshow": {
     "slide_type": "fragment"
    }
   },
   "outputs": [],
   "source": []
  },
  {
   "cell_type": "markdown",
   "metadata": {
    "slideshow": {
     "slide_type": "subslide"
    }
   },
   "source": [
    "## Listing nodes\n",
    "\n",
    "    docker node ls"
   ]
  },
  {
   "cell_type": "code",
   "execution_count": null,
   "metadata": {
    "slideshow": {
     "slide_type": "fragment"
    }
   },
   "outputs": [],
   "source": []
  },
  {
   "cell_type": "markdown",
   "metadata": {
    "slideshow": {
     "slide_type": "fragment"
    }
   },
   "source": [
    "* ``rm``, ``inspect`` etc."
   ]
  },
  {
   "cell_type": "markdown",
   "metadata": {
    "slideshow": {
     "slide_type": "fragment"
    }
   },
   "source": [
    "* Note that the commands are following the linux philosophy"
   ]
  },
  {
   "cell_type": "markdown",
   "metadata": {
    "slideshow": {
     "slide_type": "subslide"
    }
   },
   "source": [
    "## Starting a service\n",
    "\n",
    "    docker service create --name nginx nginx"
   ]
  },
  {
   "cell_type": "code",
   "execution_count": null,
   "metadata": {
    "slideshow": {
     "slide_type": "fragment"
    }
   },
   "outputs": [],
   "source": []
  },
  {
   "cell_type": "markdown",
   "metadata": {
    "slideshow": {
     "slide_type": "subslide"
    }
   },
   "source": [
    "## Scaling a service\n",
    "\n",
    "    docker service scale nginx=4"
   ]
  },
  {
   "cell_type": "code",
   "execution_count": null,
   "metadata": {
    "slideshow": {
     "slide_type": "fragment"
    }
   },
   "outputs": [],
   "source": []
  },
  {
   "cell_type": "markdown",
   "metadata": {
    "slideshow": {
     "slide_type": "subslide"
    }
   },
   "source": [
    "## Listing services\n",
    "\n",
    "    docker service ls"
   ]
  },
  {
   "cell_type": "code",
   "execution_count": null,
   "metadata": {
    "slideshow": {
     "slide_type": "fragment"
    }
   },
   "outputs": [],
   "source": []
  },
  {
   "cell_type": "markdown",
   "metadata": {
    "slideshow": {
     "slide_type": "subslide"
    }
   },
   "source": [
    "## Recap\n",
    "\n",
    "* Docker-machine\n",
    "* Docker swarm \n",
    "  * Initialise clusters\n",
    "  * Join clusters\n",
    "  * Create services\n",
    "  * Scaling services"
   ]
  },
  {
   "cell_type": "markdown",
   "metadata": {
    "slideshow": {
     "slide_type": "fragment"
    }
   },
   "source": [
    "* Networks \n",
    "* Configuration management\n",
    "* Upgrading services"
   ]
  },
  {
   "cell_type": "markdown",
   "metadata": {
    "slideshow": {
     "slide_type": "subslide"
    }
   },
   "source": [
    "## Networks in Docker swarm\n",
    "\n",
    "  * Overlay network\n",
    "    * Networks as we know them (VPN)\n",
    "  * Ingress network\n",
    "    * Load-balancing"
   ]
  },
  {
   "cell_type": "markdown",
   "metadata": {
    "slideshow": {
     "slide_type": "fragment"
    }
   },
   "source": [
    "    docker network ls\n",
    "    \n",
    "    docker network create -d [overlay|ingress] name"
   ]
  },
  {
   "cell_type": "markdown",
   "metadata": {
    "slideshow": {
     "slide_type": "fragment"
    }
   },
   "source": [
    "    docker service create --name nginx --network mynetwork nginx"
   ]
  },
  {
   "cell_type": "markdown",
   "metadata": {
    "slideshow": {
     "slide_type": "subslide"
    }
   },
   "source": [
    "## Configuration in Docker swarm\n",
    "\n",
    "* Configuration is shared between managers\n",
    "* ``docker config``\n",
    "  * ``docker config create name file``\n",
    "  * Example: ``docker config create nginx.conf nginx.conf``\n",
    "  "
   ]
  },
  {
   "cell_type": "markdown",
   "metadata": {
    "slideshow": {
     "slide_type": "fragment"
    }
   },
   "source": [
    "* Mounting configurations\n",
    "  * Configurations can be mounted to files inside services\n",
    "  * ``docker service create --name nginx nginx``\n",
    "  * ``docker service create --config source=nginx.conf,target=/etc/nginx/nginx.conf --name prometheus prom/prometheus``"
   ]
  },
  {
   "cell_type": "markdown",
   "metadata": {
    "slideshow": {
     "slide_type": "subslide"
    }
   },
   "source": [
    "## Docker swarm ``update``\n",
    "\n",
    "* Rolling upgrade\n",
    "  * Image versions as upgrade tags\n",
    "  * ``docker service update [service]``\n",
    "  * Example: ``docker service update --image nginx:latest nginx``"
   ]
  },
  {
   "cell_type": "markdown",
   "metadata": {
    "slideshow": {
     "slide_type": "fragment"
    }
   },
   "source": [
    "* Also feasible with configuration, networks, etc.\n",
    "  * ``docker service update --config-add source=nginx.conf,target=/etc/nginx/nginx.conf nginx``\n",
    "  * ``docker service update --network-add mynetwork nginx``\n",
    "  * ..."
   ]
  },
  {
   "cell_type": "markdown",
   "metadata": {
    "slideshow": {
     "slide_type": "subslide"
    }
   },
   "source": [
    "## Recap\n",
    "\n",
    "* Instrumenting machines\n",
    "  * ``docker-machine create``\n",
    "* Starting Docker swarm clusters\n",
    "  * ``docker swarm init``\n",
    "  * ``docker swarm join --token ...``\n",
    "* Creating Docker swarm services\n",
    "  * ``docker service create --name nginx nginx``\n",
    "* Scaling the service\n",
    "  * ``docker service scale nginx=10``\n",
    "* Updating a service\n",
    "  * ``docker service update --image nginx:latest nginx``"
   ]
  },
  {
   "cell_type": "markdown",
   "metadata": {
    "slideshow": {
     "slide_type": "slide"
    }
   },
   "source": [
    "## Docker swarm use cases\n",
    "\n",
    "1. Buggy application\n",
    "2. Monitoring with service discovery"
   ]
  },
  {
   "cell_type": "markdown",
   "metadata": {
    "slideshow": {
     "slide_type": "subslide"
    }
   },
   "source": [
    "## Use case 1/2: Buggy webserver\n",
    "\n",
    "* Small Go webserver\n",
    "  * Crashes somewhere between now and in 20 seconds\n",
    "\n",
    "\n",
    "* https://github.com/Jegp/docker-swarm-go-example"
   ]
  },
  {
   "cell_type": "markdown",
   "metadata": {
    "slideshow": {
     "slide_type": "fragment"
    }
   },
   "source": [
    "1. ``docker service create --name webserver -p 8080:8080 helgecph/swarmserver``\n",
    "  1. Launches a service with the very buggy go application\n",
    "2. ``docker service scale webserver=5``\n",
    "  1. Scales the service to 5 instances\n",
    "3. Go to the webservice ``/status`` endpoint and behold the cluster self-heal\n",
    "  1. ``curl http://$(docker-machine ip box2):8080/status``\n",
    "  \n",
    "... or use the ``create_cluster.sh`` shell script"
   ]
  },
  {
   "cell_type": "markdown",
   "metadata": {
    "slideshow": {
     "slide_type": "subslide"
    }
   },
   "source": [
    "## Use case 2/2: Monitoring with service discovery\n",
    "\n",
    "* Nodejs service with unknown number of running tasks\n",
    "* Prometheus for monitoring\n",
    "\n",
    "\n",
    "* https://github.com/Jegp/docker-swarm-go-example\n"
   ]
  },
  {
   "cell_type": "markdown",
   "metadata": {
    "slideshow": {
     "slide_type": "fragment"
    }
   },
   "source": [
    "1. ``docker network create -d overlay monitoring``\n",
    "  1. Create a common network for services that should be monitored\n",
    "2. ``docker service create --name nodejs -p 8080:8080 --network monitoring jegp/nodejs-prometheus``\n",
    "  1. Creates a NodeJS service from [Dockerhub](https://hub.docker.com/r/jegp/nodejs-prometheus/) on the ``monitoring`` network\n",
    "3. ``docker config create prometheus prometheus.yml``\n",
    "  1. Creates a configuration file for Prometheus searching for the 'nodejs' tasks\n",
    "4. ``docker service create --name prometheus --network monitoring --config source=prometheus,target=/etc/prometheus/prometheus.yml -p 9090:9090 prometheus``\n",
    "  1. Starts the prometheus service on the ``monitoring`` network using the configuration from step 3\n",
    "5. ``docker service scale nodejs=10``\n",
    "  1. Watch the prometheus cluster get more monitoring input as the service scales!"
   ]
  },
  {
   "cell_type": "markdown",
   "metadata": {
    "slideshow": {
     "slide_type": "slide"
    }
   },
   "source": [
    "# Recap\n",
    "\n",
    "* Status on Docker swarm\n",
    "* Docker swarm versus Kubernetes\n",
    "* Wrap-up"
   ]
  },
  {
   "cell_type": "markdown",
   "metadata": {
    "slideshow": {
     "slide_type": "subslide"
    }
   },
   "source": [
    "## Are we getting what we want?\n",
    "\n",
    "* Efficient management? \n",
    "  * 4 commands = one service replicated 10 times\n",
    "* Scheduling?\n",
    "  * Free load balancing!\n",
    "  * No automated scaling\n",
    "* Security?\n",
    "  * Networking\n",
    "  * Automated public/private key pairings"
   ]
  },
  {
   "cell_type": "markdown",
   "metadata": {
    "slideshow": {
     "slide_type": "subslide"
    }
   },
   "source": [
    "## Comparing Docker swarm with Kubernetes\n",
    "\n",
    "| Item | Docker | Kubernetes |\n",
    "| ---------------------- | ------------------------ | -------------------------- |\n",
    "| Interface | CLI | CLI and configuration |\n",
    "| Configuration | No | Yes | \n",
    "| Complexity | Simple | Hard |\n",
    "| Time-to-market | Short | Medium | \n",
    "| Nomenclature | Easy | Hard |"
   ]
  },
  {
   "cell_type": "markdown",
   "metadata": {
    "slideshow": {
     "slide_type": "subslide"
    }
   },
   "source": [
    "## Wrap-up\n",
    "\n",
    "* The technology bottleneck (you)\n",
    "* Docker as a paradigm\n",
    "* Docker swarm\n",
    "* Use-cases\n",
    "* Brief evaluation of Docker and Kubernetes\n"
   ]
  },
  {
   "cell_type": "markdown",
   "metadata": {
    "slideshow": {
     "slide_type": "fragment"
    }
   },
   "source": [
    "\n",
    "Thank you for your time!\n",
    "\n",
    "### Contact\n",
    "\n",
    "   Jens Egholm Pedersen - ``jensegholm@protonmail.com``"
   ]
  }
 ],
 "metadata": {
  "celltoolbar": "Slideshow",
  "kernelspec": {
   "display_name": "Python 3",
   "language": "python",
   "name": "python3"
  },
  "language_info": {
   "codemirror_mode": {
    "name": "ipython",
    "version": 3
   },
   "file_extension": ".py",
   "mimetype": "text/x-python",
   "name": "python",
   "nbconvert_exporter": "python",
   "pygments_lexer": "ipython3",
   "version": "3.6.3"
  }
 },
 "nbformat": 4,
 "nbformat_minor": 2
}
